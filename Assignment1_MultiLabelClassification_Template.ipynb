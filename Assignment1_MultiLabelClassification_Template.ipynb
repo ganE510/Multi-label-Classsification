{
 "cells": [
  {
   "cell_type": "markdown",
   "metadata": {},
   "source": [
    "# COMP47590: Advanced Machine Learning\n",
    "# Assignment 1: Multi-label Classification"
   ]
  },
  {
   "cell_type": "markdown",
   "metadata": {},
   "source": [
    "Name(s): Yili Lai, Qimeng Gan\n",
    "\n",
    "Student Number(s): 15205910, 15205903"
   ]
  },
  {
   "cell_type": "markdown",
   "metadata": {},
   "source": [
    "## Import Packages Etc"
   ]
  },
  {
   "cell_type": "code",
   "execution_count": 1,
   "metadata": {},
   "outputs": [
    {
     "name": "stderr",
     "output_type": "stream",
     "text": [
      "E:\\Anaconda3\\lib\\site-packages\\sklearn\\ensemble\\weight_boosting.py:29: DeprecationWarning: numpy.core.umath_tests is an internal NumPy module and should not be imported. It will be removed in a future NumPy release.\n",
      "  from numpy.core.umath_tests import inner1d\n"
     ]
    }
   ],
   "source": [
    "import pandas as pd\n",
    "import numpy as np\n",
    "import matplotlib.pyplot as plt\n",
    "import math\n",
    "\n",
    "from sklearn.base import BaseEstimator, ClassifierMixin\n",
    "from sklearn.ensemble import BaggingClassifier\n",
    "from sklearn.metrics import hamming_loss, f1_score\n",
    "from sklearn.model_selection import train_test_split\n",
    "from sklearn.utils.validation import check_X_y, check_array, check_is_fitted\n",
    "from imblearn.under_sampling import RandomUnderSampler\n",
    "\n",
    "# import other useful packages"
   ]
  },
  {
   "cell_type": "markdown",
   "metadata": {},
   "source": [
    "## Task 0: Load the Yeast Dataset"
   ]
  },
  {
   "cell_type": "code",
   "execution_count": 2,
   "metadata": {
    "scrolled": true
   },
   "outputs": [],
   "source": [
    "dataset = pd.read_csv('yeast.csv')\n",
    "data = np.array(dataset.iloc[:,:103])\n",
    "functions = np.array(dataset.iloc[:,103:])"
   ]
  },
  {
   "cell_type": "markdown",
   "metadata": {},
   "source": [
    "Explore the dataset"
   ]
  },
  {
   "cell_type": "code",
   "execution_count": 3,
   "metadata": {},
   "outputs": [
    {
     "data": {
      "image/png": "[encoded data removed]",
      "text/plain": [
       "<Figure size 432x288 with 1 Axes>"
      ]
     },
     "metadata": {
      "needs_background": "light"
     },
     "output_type": "display_data"
    }
   ],
   "source": [
    "# visualize the number of the label\n",
    "tag_dict ={}\n",
    "num_classes = 14\n",
    "for i in range(num_classes):\n",
    "  tag_dict['class'+ i.__str__()] = dataset.iloc[:,103+i].value_counts()[1]\n",
    "labelcount = pd.DataFrame(list(tag_dict.items()),columns=['label', 'count'])\n",
    "labelcount.plot(x='label', y='count', kind='bar')\n",
    "plt.show()"
   ]
  },
  {
   "cell_type": "markdown",
   "metadata": {},
   "source": [
    "## Task 1: Implement the Binary Relevance Algorithm"
   ]
  },
  {
   "cell_type": "code",
   "execution_count": 4,
   "metadata": {},
   "outputs": [],
   "source": [
    "# Create a new classifier which is based on the sckit-learn BaseEstimator and ClassifierMixin classes\n",
    "class BinaryRelevanceClassifier(BaseEstimator, ClassifierMixin):\n",
    "    # Constructor for the classifier object\n",
    "    def __init__(self, add_noise = False):\n",
    "        self.add_noise = add_noise\n",
    "        \n",
    "    # The fit function to train a classifier\n",
    "    def fit(self, data, functions):    \n",
    "        # Create a new empty dictionary into which we will store relevance\n",
    "        self.relevances_ = dict()\n",
    "\n",
    "        # Iterate all functioins\n",
    "        for i in range(14):\n",
    "            status = functions[:,i]\n",
    "            status = status.T\n",
    "            self.relevances_[i] = BaggingClassifier(n_estimators=10, random_state=0).fit(data, status)\n",
    "        \n",
    "        # Return the classifier\n",
    "        return self\n",
    "            \n",
    "    # The predict function to make a set of predictions for a set of query instances\n",
    "    def predict(self, X):\n",
    "        # Check is fit had been called by confirming that the teamplates_ dictiponary has been set up\n",
    "        check_is_fitted(self, ['relevances_'])\n",
    "\n",
    "        # Initialise an empty list to store the predictions made\n",
    "        pos_functions = list()\n",
    "        \n",
    "        # Iterate all functioins to predict\n",
    "        for i in range(14):\n",
    "            pos_functions.append(self.relevances_[i].predict(X))\n",
    "            \n",
    "        return np.array(pos_functions).T"
   ]
  },
  {
   "cell_type": "markdown",
   "metadata": {},
   "source": [
    "## Task 2: Implement the Binary Relevance Algorithm with Under-Sampling"
   ]
  },
  {
   "cell_type": "code",
   "execution_count": 5,
   "metadata": {},
   "outputs": [],
   "source": [
    "class BRUnderSample(BaseEstimator, ClassifierMixin):\n",
    "    # Constructor for the classifier object\n",
    "    def __init__(self, under_sampling='undersampling'):\n",
    "        self.under_sampling = under_sampling\n",
    "        \n",
    "    # The fit function to train a classifier\n",
    "    def fit(self, data, functions):\n",
    "         # Create a new empty dictionary into which we will store relevance\n",
    "        self.relevances_ = dict()\n",
    "        \n",
    "        # Add an option to under-sample\n",
    "        rus = RandomUnderSampler(random_state=0)\n",
    "        \n",
    "        # Iterate all functioins\n",
    "        for i in range(14):\n",
    "            status = functions[:,i]\n",
    "            status = status.T\n",
    "\n",
    "            # Under-sample data and status\n",
    "            if self.under_sampling == 'undersampling':\n",
    "                temp_data, status = rus.fit_sample(data,status)\n",
    "                \n",
    "            self.relevances_[i] = BaggingClassifier(n_estimators=10, random_state=0).fit(temp_data, status)\n",
    "\n",
    "        # Return the classifier\n",
    "        return self\n",
    "\n",
    "    # The predict function to make a set of predictions for a set of query instances\n",
    "    def predict(self, X):\n",
    "        # Check is fit had been called by confirming that the teamplates_ dictiponary has been set up\n",
    "        check_is_fitted(self, ['relevances_'])\n",
    "        \n",
    "        # Initialise an empty list to store the predictions made\n",
    "        pos_functions = list()\n",
    "\n",
    "        # Iterate all functioins to predict\n",
    "        for  i in range(14):\n",
    "            pos_functions.append(self.relevances_[i].predict(X))\n",
    "            \n",
    "        return np.array(pos_functions).T"
   ]
  },
  {
   "cell_type": "markdown",
   "metadata": {},
   "source": [
    "## Task 3: Compare the Performance of Different Binary Relevance Approaches"
   ]
  },
  {
   "cell_type": "markdown",
   "metadata": {},
   "source": [
    "Split the data into a training and a test set"
   ]
  },
  {
   "cell_type": "code",
   "execution_count": 6,
   "metadata": {},
   "outputs": [
    {
     "name": "stderr",
     "output_type": "stream",
     "text": [
      "E:\\Anaconda3\\lib\\site-packages\\sklearn\\model_selection\\_split.py:2026: FutureWarning: From version 0.21, test_size will always complement train_size unless both are specified.\n",
      "  FutureWarning)\n"
     ]
    }
   ],
   "source": [
    "data_train, data_test, function_train, function_test = train_test_split(data, functions, random_state=0, train_size = 0.7)"
   ]
  },
  {
   "cell_type": "markdown",
   "metadata": {},
   "source": [
    "Train and evaluate 2 models"
   ]
  },
  {
   "cell_type": "code",
   "execution_count": 7,
   "metadata": {},
   "outputs": [],
   "source": [
    "# Train Binary Relevance Model\n",
    "br = BinaryRelevanceClassifier()\n",
    "br.fit(data_train, function_train)\n",
    "function_pred = br.predict(data_test)\n",
    "\n",
    "# The fraction of labels that are incorrectly predicted\n",
    "brLoss = hamming_loss(function_test, function_pred)\n",
    "# F1 score: weighted average of the precision and recall\n",
    "brfScore = f1_score(function_test, function_pred, average='macro')"
   ]
  },
  {
   "cell_type": "code",
   "execution_count": 8,
   "metadata": {},
   "outputs": [],
   "source": [
    "bru = BRUnderSample()\n",
    "bru.fit(data_train, function_train)\n",
    "function_pred = bru.predict(data_test)\n",
    "\n",
    "# The fraction of labels that are incorrectly predicted\n",
    "bruLoss = hamming_loss(function_test, function_pred)\n",
    "# F1 score: weighted average of the precision and recall\n",
    "brufScore = f1_score(function_test, function_pred, average='macro')"
   ]
  },
  {
   "cell_type": "code",
   "execution_count": 9,
   "metadata": {},
   "outputs": [
    {
     "data": {
      "image/png": "[encoded data removed]",
      "text/plain": [
       "<Figure size 432x288 with 1 Axes>"
      ]
     },
     "metadata": {
      "needs_background": "light"
     },
     "output_type": "display_data"
    }
   ],
   "source": [
    "name_list = ['Hamming Loss','F1-Score']\n",
    "num_list = [brLoss,brfScore]\n",
    "num_list1 = [bruLoss,brufScore]\n",
    "x = list(range(len(num_list)))\n",
    "total,n = 0.8, 2\n",
    "width = total / n\n",
    "\n",
    "plt.bar(x, num_list, width = width, label ='without sampling',fc = 'y')\n",
    "for i in range(len(x)):\n",
    "    x[i] = x[i] + width\n",
    "plt.bar(x, num_list1, width = width, label ='with sampling',tick_label = name_list,fc = 'r')\n",
    "plt.legend()\n",
    "plt.show()"
   ]
  },
  {
   "cell_type": "markdown",
   "metadata": {},
   "source": [
    "## Task 4: Implement the Classifier Chains Algorithm"
   ]
  },
  {
   "cell_type": "code",
   "execution_count": 10,
   "metadata": {},
   "outputs": [],
   "source": [
    "# Write your code here\n",
    "class ClassChainsClassifier(BaseEstimator, ClassifierMixin):\n",
    "    # Constructor for the classifier object\n",
    "    def __init__(self, add_noise = False):\n",
    "        self.add_noise = add_noise\n",
    "        \n",
    "    # The fit function to train a classifier\n",
    "    def fit(self, data, functions):\n",
    "        data = data[:,:103]\n",
    "        # Create a new empty dictionary into which we will store relevance\n",
    "        self.relevances_ = dict()\n",
    "\n",
    "        # Iterate all functioins\n",
    "        for i in range(14):\n",
    "            status = functions[:,i]\n",
    "            status = status.T\n",
    "            self.relevances_[i] = BaggingClassifier(n_estimators=10, random_state=0).fit(data, status)\n",
    "            data = np.c_[data,status]\n",
    "            \n",
    "    # The predict function to make a set of predictions for a set of query instances\n",
    "    def predict(self, X):\n",
    "        # Check is fit had been called by confirming that the teamplates_ dictiponary has been set up\n",
    "        check_is_fitted(self, ['relevances_'])\n",
    "\n",
    "        # Initialise an empty list to store the predictions made\n",
    "        pos_functions = list()\n",
    "        \n",
    "        print \n",
    "        # Iterate all functioins to predict\n",
    "        for i in range(14):\n",
    "            j = 103+i\n",
    "            pos_functions.append(self.relevances_[i].predict(X[:,:j]))\n",
    "            \n",
    "        return np.array(pos_functions).T"
   ]
  },
  {
   "cell_type": "markdown",
   "metadata": {},
   "source": [
    "## Task 5: Evaluate the Performance of the Classifier Chains Algorithm"
   ]
  },
  {
   "cell_type": "code",
   "execution_count": 11,
   "metadata": {},
   "outputs": [],
   "source": [
    "# Write your code here\n"
   ]
  },
  {
   "cell_type": "markdown",
   "metadata": {},
   "source": [
    "## Task 6: Reflect on the Performance of the Different Models Evaluated"
   ]
  },
  {
   "cell_type": "markdown",
   "metadata": {},
   "source": [
    "*Write your reflection here (max 300 words)*"
   ]
  },
  {
   "cell_type": "markdown",
   "metadata": {},
   "source": [
    "\n"
   ]
  }
 ],
 "metadata": {
  "kernelspec": {
   "display_name": "Python 3",
   "language": "python",
   "name": "python3"
  },
  "language_info": {
   "codemirror_mode": {
    "name": "ipython",
    "version": 3
   },
   "file_extension": ".py",
   "mimetype": "text/x-python",
   "name": "python",
   "nbconvert_exporter": "python",
   "pygments_lexer": "ipython3",
   "version": "3.7.6"
  }
 },
 "nbformat": 4,
 "nbformat_minor": 2
}
