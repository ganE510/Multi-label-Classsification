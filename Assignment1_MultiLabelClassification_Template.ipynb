{
  "nbformat": 4,
  "nbformat_minor": 0,
  "metadata": {
    "kernelspec": {
      "display_name": "Python 3",
      "language": "python",
      "name": "python3"
    },
    "language_info": {
      "codemirror_mode": {
        "name": "ipython",
        "version": 3
      },
      "file_extension": ".py",
      "mimetype": "text/x-python",
      "name": "python",
      "nbconvert_exporter": "python",
      "pygments_lexer": "ipython3",
      "version": "3.7.6"
    },
    "colab": {
      "name": "Assignment1_MultiLabelClassification_Template.ipynb",
      "provenance": []
    }
  },
  "cells": [
    {
      "cell_type": "markdown",
      "metadata": {
        "id": "4JMrA1rb85ME",
        "colab_type": "text"
      },
      "source": [
        "## Import Packages Etc"
      ]
    },
    {
      "cell_type": "code",
      "metadata": {
        "id": "KuJheych85MG",
        "colab_type": "code",
        "colab": {},
        "outputId": "57f6afb9-df45-4897-8b74-0e6c649f8ceb"
      },
      "source": [
        "import pandas as pd\n",
        "import numpy as np\n",
        "import matplotlib.pyplot as plt\n",
        "import math\n",
        "\n",
        "from sklearn import tree\n",
        "from sklearn import metrics\n",
        "from sklearn import tree\n",
        "from sklearn import svm\n",
        "from sklearn import ensemble\n",
        "from sklearn import linear_model\n",
        "from sklearn import neighbors\n",
        "from sklearn import neural_network\n",
        "from sklearn.model_selection import GridSearchCV\n",
        "from sklearn.model_selection import cross_val_score\n",
        "from sklearn.base import BaseEstimator, ClassifierMixin\n",
        "from sklearn.ensemble import BaggingClassifier\n",
        "from sklearn.metrics import hamming_loss, f1_score, accuracy_score\n",
        "from sklearn.model_selection import train_test_split\n",
        "from imblearn.under_sampling import RandomUnderSampler\n",
        "from sklearn.utils.validation import check_is_fitted\n",
        "# import other useful packages"
      ],
      "execution_count": 0,
      "outputs": [
        {
          "output_type": "stream",
          "text": [
            "E:\\Anaconda3\\lib\\site-packages\\sklearn\\ensemble\\weight_boosting.py:29: DeprecationWarning: numpy.core.umath_tests is an internal NumPy module and should not be imported. It will be removed in a future NumPy release.\n",
            "  from numpy.core.umath_tests import inner1d\n"
          ],
          "name": "stderr"
        }
      ]
    },
    {
      "cell_type": "markdown",
      "metadata": {
        "id": "A3K_8vqz85MN",
        "colab_type": "text"
      },
      "source": [
        "## Task 0: Load the Yeast Dataset"
      ]
    },
    {
      "cell_type": "code",
      "metadata": {
        "scrolled": true,
        "id": "EV9ZPHXt85MO",
        "colab_type": "code",
        "colab": {}
      },
      "source": [
        "dataset = pd.read_csv('yeast.csv')\n",
        "data = np.array(dataset.iloc[:,:103])\n",
        "functions = np.array(dataset.iloc[:,103:])"
      ],
      "execution_count": 0,
      "outputs": []
    },
    {
      "cell_type": "markdown",
      "metadata": {
        "id": "B46EKNHQ85MS",
        "colab_type": "text"
      },
      "source": [
        "Explore the dataset"
      ]
    },
    {
      "cell_type": "code",
      "metadata": {
        "id": "fPqoxKjz85MT",
        "colab_type": "code",
        "colab": {},
        "outputId": "ef776d1b-5769-4cc1-fcec-1f119347d4e8"
      },
      "source": [
        "# visualize the number of the label\n",
        "tag_dict ={}\n",
        "num_classes = 14\n",
        "for i in range(num_classes):\n",
        "    tag_dict['class'+ i.__str__()] = dataset.iloc[:,103+i].value_counts()[1]\n",
        "labelcount = pd.DataFrame(list(tag_dict.items()),columns=['label', 'count'])\n",
        "labelcount.plot(x='label', y='count', kind='bar')\n",
        "plt.show()"
      ],
      "execution_count": 0,
      "outputs": [
        {
          "output_type": "display_data",
          "data": {
            "image/png": "[encoded data removed]",
            "text/plain": [
              "<Figure size 432x288 with 1 Axes>"
            ]
          },
          "metadata": {
            "tags": [],
            "needs_background": "light"
          }
        }
      ]
    },
    {
      "cell_type": "markdown",
      "metadata": {
        "id": "KZCU2ntK85MW",
        "colab_type": "text"
      },
      "source": [
        "## Task 1: Implement the Binary Relevance Algorithm"
      ]
    },
    {
      "cell_type": "code",
      "metadata": {
        "id": "WbrgnqZ485MX",
        "colab_type": "code",
        "colab": {}
      },
      "source": [
        "# Create a new classifier which is based on the sckit-learn BaseEstimator and ClassifierMixin classes\n",
        "class BinaryRelevanceClassifier(BaseEstimator, ClassifierMixin):\n",
        "    # Constructor for the classifier object\n",
        "    def __init__(self, add_noise = False):\n",
        "        self.add_noise = add_noise\n",
        "        \n",
        "    # The fit function to train a classifier\n",
        "    def fit(self, data, functions):    \n",
        "        # Create a new empty dictionary into which we will store relevance\n",
        "        self.relevances_ = dict()\n",
        "\n",
        "        # Iterate all functioins\n",
        "        for i in range(14):\n",
        "            status = functions[:,i]\n",
        "            status = status.T\n",
        "            self.relevances_[i] = BaggingClassifier(n_estimators=10, random_state=0).fit(data, status)\n",
        "        \n",
        "        # Return the classifier\n",
        "        return self\n",
        "            \n",
        "    # The predict function to make a set of predictions for a set of query instances\n",
        "    def predict(self, X):\n",
        "        # Check is fit had been called by confirming that the teamplates_ dictiponary has been set up\n",
        "        check_is_fitted(self, ['relevances_'])\n",
        "\n",
        "        # Initialise an empty list to store the predictions made\n",
        "        pos_functions = list()\n",
        "        \n",
        "        # Iterate all functioins to predict\n",
        "        for i in range(14):\n",
        "            pos_functions.append(self.relevances_[i].predict(X))\n",
        "            \n",
        "        return np.array(pos_functions).T"
      ],
      "execution_count": 0,
      "outputs": []
    },
    {
      "cell_type": "markdown",
      "metadata": {
        "id": "ekDXyiI785Ma",
        "colab_type": "text"
      },
      "source": [
        "## Task 2: Implement the Binary Relevance Algorithm with Under-Sampling"
      ]
    },
    {
      "cell_type": "code",
      "metadata": {
        "id": "Bbm8TrNv85Mb",
        "colab_type": "code",
        "colab": {}
      },
      "source": [
        "class BRUnderSample(BaseEstimator, ClassifierMixin):\n",
        "    # Constructor for the classifier object\n",
        "    def __init__(self, under_sampling='undersampling', algorithm_model = 'BaggingClassifier'):\n",
        "        self.under_sampling = under_sampling\n",
        "        self.algorithm_model = algorithm_model\n",
        "        \n",
        "    # The fit function to train a classifier\n",
        "    def fit(self, data, functions):\n",
        "         # Create a new empty dictionary into which we will store relevance\n",
        "        self.relevances_ = dict()\n",
        "        \n",
        "        # Add an option to under-sample\n",
        "        rus = RandomUnderSampler(random_state=0)\n",
        "        \n",
        "        # Iterate all functioins\n",
        "        for i in range(14):\n",
        "            status = functions[:,i]\n",
        "            status = status.T\n",
        "\n",
        "            # option to under-sample\n",
        "            if self.under_sampling == 'undersampling':\n",
        "                temp_data, status = rus.fit_sample(data,status)\n",
        "            else:\n",
        "                temp_data = data\n",
        "                \n",
        "            # Choose algorithm\n",
        "            if self.algorithm_model == 'BaggingClassifier':\n",
        "                self.relevances_[i] = BaggingClassifier(n_estimators=10, random_state=0).fit(temp_data, status)\n",
        "            elif self.algorithm_model == 'LogisticRegression':\n",
        "                self.relevances_[i] = BaggingClassifier(base_estimator = linear_model.LogisticRegression(),n_estimators=10).fit(temp_data, status)\n",
        "            elif self.algorithm_model == 'DecisionTree':\n",
        "                self.relevances_[i] = BaggingClassifier(base_estimator = tree.DecisionTreeClassifier(criterion=\"entropy\", max_depth = 6, min_samples_leaf = 200),n_estimators=10).fit(temp_data, status)\n",
        "            elif self.algorithm_model == 'KNN':\n",
        "                self.relevances_[i] = BaggingClassifier(base_estimator = neighbors.KNeighborsClassifier(n_neighbors =2),max_samples=0.1,max_features=0.5).fit(temp_data,status)\n",
        "\n",
        "        # Return the classifier\n",
        "        return self\n",
        "\n",
        "    # The predict function to make a set of predictions for a set of query instances\n",
        "    def predict(self, X):\n",
        "        # Check is fit had been called by confirming that the teamplates_ dictiponary has been set up\n",
        "        check_is_fitted(self, ['relevances_'])\n",
        "        \n",
        "        # Initialise an empty list to store the predictions made\n",
        "        pos_functions = list()\n",
        "\n",
        "        # Iterate all functioins to predict\n",
        "        for  i in range(14):\n",
        "            pos_functions.append(self.relevances_[i].predict(X))\n",
        "            \n",
        "        return np.array(pos_functions).T"
      ],
      "execution_count": 0,
      "outputs": []
    },
    {
      "cell_type": "markdown",
      "metadata": {
        "id": "oze4lPAu85Mf",
        "colab_type": "text"
      },
      "source": [
        "## Task 3: Compare the Performance of Different Binary Relevance Approaches"
      ]
    },
    {
      "cell_type": "markdown",
      "metadata": {
        "id": "amfMCQU-85Mg",
        "colab_type": "text"
      },
      "source": [
        "### Split the data into a training and a test set"
      ]
    },
    {
      "cell_type": "code",
      "metadata": {
        "id": "eSIHST-H85Mi",
        "colab_type": "code",
        "colab": {},
        "outputId": "0714a476-9a1c-40d4-f10e-62f0083c1366"
      },
      "source": [
        "data_train, data_test, function_train, function_test = train_test_split(data, functions, random_state=0, train_size = 0.7)"
      ],
      "execution_count": 0,
      "outputs": [
        {
          "output_type": "stream",
          "text": [
            "E:\\Anaconda3\\lib\\site-packages\\sklearn\\model_selection\\_split.py:2026: FutureWarning: From version 0.21, test_size will always complement train_size unless both are specified.\n",
            "  FutureWarning)\n"
          ],
          "name": "stderr"
        }
      ]
    },
    {
      "cell_type": "markdown",
      "metadata": {
        "id": "ZDdXPn1f85Ml",
        "colab_type": "text"
      },
      "source": [
        "### Train and evaluate 2 models"
      ]
    },
    {
      "cell_type": "markdown",
      "metadata": {
        "id": "imOwSDwO85Mm",
        "colab_type": "text"
      },
      "source": [
        "Binary Relevance Model"
      ]
    },
    {
      "cell_type": "code",
      "metadata": {
        "id": "Pfym9IMw85Mm",
        "colab_type": "code",
        "colab": {}
      },
      "source": [
        "br = BinaryRelevanceClassifier()\n",
        "br.fit(data_train, function_train)\n",
        "function_pred = br.predict(data_test)\n",
        "\n",
        "# The number of subset whose labels exactly match the corresponding set of labels\n",
        "brAccuracy = accuracy_score(function_test, function_pred)\n",
        "# The fraction of labels that are incorrectly predicted\n",
        "brLoss = hamming_loss(function_test, function_pred)\n",
        "# F1 score: weighted average of the precision and recall\n",
        "brfScore = f1_score(function_test, function_pred, average='macro')"
      ],
      "execution_count": 0,
      "outputs": []
    },
    {
      "cell_type": "markdown",
      "metadata": {
        "id": "zpRgLHTp85Ms",
        "colab_type": "text"
      },
      "source": [
        "Binary Relevance Model with under-sampling"
      ]
    },
    {
      "cell_type": "code",
      "metadata": {
        "id": "O7wJ1cRQ85Mu",
        "colab_type": "code",
        "colab": {}
      },
      "source": [
        "bru = BRUnderSample()\n",
        "bru.fit(data_train, function_train)\n",
        "function_pred = bru.predict(data_test)\n",
        "\n",
        "bruAccuracy = accuracy_score(function_test, function_pred)\n",
        "bruLoss = hamming_loss(function_test, function_pred)\n",
        "brufScore = f1_score(function_test, function_pred, average='macro')"
      ],
      "execution_count": 0,
      "outputs": []
    },
    {
      "cell_type": "markdown",
      "metadata": {
        "id": "T49xTRyU85Mx",
        "colab_type": "text"
      },
      "source": [
        "Plot the performance of 2 models"
      ]
    },
    {
      "cell_type": "code",
      "metadata": {
        "id": "xfLrmDTQ85Mz",
        "colab_type": "code",
        "colab": {},
        "outputId": "7cb1b9f0-c43e-49d0-a7e6-3db73641ba72"
      },
      "source": [
        "print(\"The accuracy of Binary Relevance is %f and Binary Relevance with under-sampling is %f\"%(brAccuracy,bruAccuracy))\n",
        "\n",
        "name_list = ['Hamming Loss','F1-Score']\n",
        "num_list = [brLoss,brfScore]\n",
        "num_list1 = [bruLoss,brufScore]\n",
        "x = list(range(len(num_list)))\n",
        "total,n = 0.5, 2\n",
        "width = total / n\n",
        "\n",
        "plt.bar(x, num_list, width = width, label ='without sampling',fc = 'y')\n",
        "for i in range(len(x)):\n",
        "    x[i] = x[i] + width\n",
        "plt.bar(x, num_list1, width = width, label ='with sampling',tick_label = name_list,fc = 'r')\n",
        "plt.legend()\n",
        "plt.show()"
      ],
      "execution_count": 0,
      "outputs": [
        {
          "output_type": "stream",
          "text": [
            "The accuracy of Binary Relevance is 0.114325 and Binary Relevance with under-sampling is 0.046832\n"
          ],
          "name": "stdout"
        },
        {
          "output_type": "display_data",
          "data": {
            "image/png": "[encoded data removed]",
            "text/plain": [
              "<Figure size 432x288 with 1 Axes>"
            ]
          },
          "metadata": {
            "tags": [],
            "needs_background": "light"
          }
        }
      ]
    },
    {
      "cell_type": "markdown",
      "metadata": {
        "id": "-DuYKEBA85M2",
        "colab_type": "text"
      },
      "source": [
        "### Other models"
      ]
    },
    {
      "cell_type": "markdown",
      "metadata": {
        "id": "4-Duec4M85M3",
        "colab_type": "text"
      },
      "source": [
        "Logistic Regression, Desicion Tree, Nearest Neighbour"
      ]
    },
    {
      "cell_type": "code",
      "metadata": {
        "id": "EIwW_KMK85M4",
        "colab_type": "code",
        "colab": {},
        "outputId": "d88e9f4d-179a-4085-e55d-736f9ac6c2ef"
      },
      "source": [
        "param_grid = [\n",
        " {'under_sampling': ['undersampling','naturesampling'],\n",
        " 'algorithm_model': ['BaggingClassifier','LogisticRegression','DecisionTree','KNN']}\n",
        "]\n",
        "cv_folds = 2\n",
        "my_tuned_model = GridSearchCV(BRUnderSample(), param_grid, cv=cv_folds, verbose = 2)\n",
        "my_tuned_model.fit(data_train, function_train)\n",
        "print(\"Best parameters set found on development set:\")\n",
        "print(my_tuned_model.best_params_)\n",
        "model_tuned_params_list = dict()\n",
        "model_tuned_params_list[\"Tuned model\"] = my_tuned_model.best_params_\n",
        "print(my_tuned_model.best_score_)\n",
        "\n",
        "function_pred = my_tuned_model.predict(data_test)\n",
        "\n",
        "# The fraction of labels that are incorrectly predicted\n",
        "tunedLoss = hamming_loss(function_test, function_pred)\n",
        "print(tunedLoss)\n",
        "# F1 score: weighted average of the precision and recall\n",
        "tunedfScore = f1_score(function_test, function_pred, average='macro')\n",
        "print(tunedfScore)"
      ],
      "execution_count": 0,
      "outputs": [
        {
          "output_type": "stream",
          "text": [
            "Fitting 2 folds for each of 8 candidates, totalling 16 fits\n",
            "[CV] algorithm_model=BaggingClassifier, under_sampling=undersampling .\n",
            "[CV]  algorithm_model=BaggingClassifier, under_sampling=undersampling, total=   1.9s\n",
            "[CV] algorithm_model=BaggingClassifier, under_sampling=undersampling .\n"
          ],
          "name": "stdout"
        },
        {
          "output_type": "stream",
          "text": [
            "[Parallel(n_jobs=1)]: Done   1 out of   1 | elapsed:    1.9s remaining:    0.0s\n"
          ],
          "name": "stderr"
        },
        {
          "output_type": "stream",
          "text": [
            "[CV]  algorithm_model=BaggingClassifier, under_sampling=undersampling, total=   1.7s\n",
            "[CV] algorithm_model=BaggingClassifier, under_sampling=naturesampling \n",
            "[CV]  algorithm_model=BaggingClassifier, under_sampling=naturesampling, total=   7.2s\n",
            "[CV] algorithm_model=BaggingClassifier, under_sampling=naturesampling \n",
            "[CV]  algorithm_model=BaggingClassifier, under_sampling=naturesampling, total=   7.0s\n",
            "[CV] algorithm_model=LogisticRegression, under_sampling=undersampling \n",
            "[CV]  algorithm_model=LogisticRegression, under_sampling=undersampling, total=   0.4s\n",
            "[CV] algorithm_model=LogisticRegression, under_sampling=undersampling \n",
            "[CV]  algorithm_model=LogisticRegression, under_sampling=undersampling, total=   0.4s\n",
            "[CV] algorithm_model=LogisticRegression, under_sampling=naturesampling \n",
            "[CV]  algorithm_model=LogisticRegression, under_sampling=naturesampling, total=   0.9s\n",
            "[CV] algorithm_model=LogisticRegression, under_sampling=naturesampling \n",
            "[CV]  algorithm_model=LogisticRegression, under_sampling=naturesampling, total=   0.9s\n",
            "[CV] algorithm_model=DecisionTree, under_sampling=undersampling ......\n",
            "[CV]  algorithm_model=DecisionTree, under_sampling=undersampling, total=   0.1s\n",
            "[CV] algorithm_model=DecisionTree, under_sampling=undersampling ......\n",
            "[CV]  algorithm_model=DecisionTree, under_sampling=undersampling, total=   0.2s\n",
            "[CV] algorithm_model=DecisionTree, under_sampling=naturesampling .....\n",
            "[CV]  algorithm_model=DecisionTree, under_sampling=naturesampling, total=   0.7s\n",
            "[CV] algorithm_model=DecisionTree, under_sampling=naturesampling .....\n",
            "[CV]  algorithm_model=DecisionTree, under_sampling=naturesampling, total=   0.6s\n",
            "[CV] algorithm_model=KNN, under_sampling=undersampling ...............\n",
            "[CV]  algorithm_model=KNN, under_sampling=undersampling, total=   0.4s\n",
            "[CV] algorithm_model=KNN, under_sampling=undersampling ...............\n",
            "[CV]  algorithm_model=KNN, under_sampling=undersampling, total=   0.4s\n",
            "[CV] algorithm_model=KNN, under_sampling=naturesampling ..............\n",
            "[CV]  algorithm_model=KNN, under_sampling=naturesampling, total=   0.7s\n",
            "[CV] algorithm_model=KNN, under_sampling=naturesampling ..............\n",
            "[CV]  algorithm_model=KNN, under_sampling=naturesampling, total=   0.7s\n"
          ],
          "name": "stdout"
        },
        {
          "output_type": "stream",
          "text": [
            "[Parallel(n_jobs=1)]: Done  16 out of  16 | elapsed:   28.1s finished\n"
          ],
          "name": "stderr"
        },
        {
          "output_type": "stream",
          "text": [
            "Best parameters set found on development set:\n",
            "{'algorithm_model': 'LogisticRegression', 'under_sampling': 'naturesampling'}\n",
            "0.13719692489651095\n",
            "0.2082841401023219\n",
            "0.33712718203098674\n"
          ],
          "name": "stdout"
        },
        {
          "output_type": "stream",
          "text": [
            "E:\\Anaconda3\\lib\\site-packages\\sklearn\\metrics\\classification.py:1135: UndefinedMetricWarning: F-score is ill-defined and being set to 0.0 in labels with no predicted samples.\n",
            "  'precision', 'predicted', average, warn_for)\n"
          ],
          "name": "stderr"
        }
      ]
    },
    {
      "cell_type": "markdown",
      "metadata": {
        "id": "BnrSZ03M85M6",
        "colab_type": "text"
      },
      "source": [
        "## Task 4: Implement the Classifier Chains Algorithm"
      ]
    },
    {
      "cell_type": "code",
      "metadata": {
        "id": "a6fORhsb85M7",
        "colab_type": "code",
        "colab": {}
      },
      "source": [
        "# Write your code here\n",
        "class ClassChainsClassifier(BaseEstimator, ClassifierMixin):\n",
        "    # Constructor for the classifier object\n",
        "    def __init__(self, add_noise = False):\n",
        "        self.add_noise = add_noise\n",
        "        \n",
        "    # The fit function to train a classifier\n",
        "    def fit(self, data, functions):\n",
        "        data = data[:,:103]\n",
        "        # Create a new empty dictionary into which we will store relevance\n",
        "        self.relevances_ = dict()\n",
        "\n",
        "        # Iterate all functioins\n",
        "        for i in range(14):\n",
        "            status = functions[:,i]\n",
        "            status = status.T\n",
        "            self.relevances_[i] = BaggingClassifier(n_estimators=10, random_state=0).fit(data, status)\n",
        "            data = np.c_[data,status]\n",
        "            \n",
        "    # The predict function to make a set of predictions for a set of query instances\n",
        "    def predict(self, X):\n",
        "        # Check is fit had been called by confirming that the teamplates_ dictiponary has been set up\n",
        "        check_is_fitted(self, ['relevances_'])\n",
        "\n",
        "        # Initialise an empty list to store the predictions made\n",
        "        pos_functions = list()\n",
        "        \n",
        "        # Iterate all functioins to predict\n",
        "        for i in range(14):\n",
        "            j = 103+i\n",
        "            pos_functions.append(self.relevances_[i].predict(X[:,:j]))\n",
        "            \n",
        "        return np.array(pos_functions).T"
      ],
      "execution_count": 0,
      "outputs": []
    },
    {
      "cell_type": "markdown",
      "metadata": {
        "id": "COjgylXv85M_",
        "colab_type": "text"
      },
      "source": [
        "## Task 5: Evaluate the Performance of the Classifier Chains Algorithm"
      ]
    },
    {
      "cell_type": "markdown",
      "metadata": {
        "id": "VR7F48t785NA",
        "colab_type": "text"
      },
      "source": [
        "### Split the data into a training and a test set"
      ]
    },
    {
      "cell_type": "code",
      "metadata": {
        "id": "Ezl9ggzT85NB",
        "colab_type": "code",
        "colab": {},
        "outputId": "791acb81-d346-4014-e2ee-112f138a9e1e"
      },
      "source": [
        "data_cc = np.array(dataset)\n",
        "data_cc_train, data_cc_test, function_cc_train, function_cc_test = train_test_split(data_cc, functions, random_state=0, train_size = 0.7)"
      ],
      "execution_count": 0,
      "outputs": [
        {
          "output_type": "stream",
          "text": [
            "E:\\Anaconda3\\lib\\site-packages\\sklearn\\model_selection\\_split.py:2026: FutureWarning: From version 0.21, test_size will always complement train_size unless both are specified.\n",
            "  FutureWarning)\n"
          ],
          "name": "stderr"
        }
      ]
    },
    {
      "cell_type": "markdown",
      "metadata": {
        "id": "Jsxlgaf385NE",
        "colab_type": "text"
      },
      "source": [
        "### Train and evaluate Classifier Chain Algorithm"
      ]
    },
    {
      "cell_type": "code",
      "metadata": {
        "scrolled": true,
        "id": "_SwoyTRI85NF",
        "colab_type": "code",
        "colab": {},
        "outputId": "4f556f95-2deb-4b3a-96cb-4d006f58d1f7"
      },
      "source": [
        "cc = ClassChainsClassifier()\n",
        "cc.fit(data_cc_train, function_cc_train)\n",
        "function_pred = cc.predict(data_cc_test)\n",
        "\n",
        "ccAccuracy = accuracy_score(function_cc_test, function_pred)\n",
        "ccLoss = hamming_loss(function_cc_test, function_pred)\n",
        "ccfScore = f1_score(function_test, function_pred, average='macro')"
      ],
      "execution_count": 0,
      "outputs": [
        {
          "output_type": "stream",
          "text": [
            "E:\\Anaconda3\\lib\\site-packages\\sklearn\\metrics\\classification.py:1135: UndefinedMetricWarning: F-score is ill-defined and being set to 0.0 in labels with no predicted samples.\n",
            "  'precision', 'predicted', average, warn_for)\n"
          ],
          "name": "stderr"
        }
      ]
    },
    {
      "cell_type": "markdown",
      "metadata": {
        "id": "Cf8f2Y-285NI",
        "colab_type": "text"
      },
      "source": [
        "Plot the performance of 3 models"
      ]
    },
    {
      "cell_type": "code",
      "metadata": {
        "id": "Qjp11wc585NI",
        "colab_type": "code",
        "colab": {},
        "outputId": "5307c361-6519-4b28-90b6-c607c211ef87"
      },
      "source": [
        "print(\"The accuracy of Binary Relevance is %f\\nBinary Relevance with under-sampling is %f\\nClassifier Chain is %f\\n\"%(brAccuracy,bruAccuracy,ccAccuracy))\n",
        "\n",
        "name_list = ['Hamming Loss','F1-Score']\n",
        "num_list = [brLoss,brfScore]\n",
        "num_list1 = [bruLoss,brufScore]\n",
        "num_list2 = [ccLoss,ccfScore]\n",
        "x = list(range(len(num_list)))\n",
        "total,n = 0.5, 2\n",
        "width = total / n\n",
        "\n",
        "plt.bar(x, num_list, width = width, label ='BR without sampling',fc = 'y')\n",
        "for i in range(len(x)):\n",
        "    x[i] += width\n",
        "plt.bar(x, num_list1, width = width, label ='BR with sampling',tick_label = name_list,fc = 'r')\n",
        "for i in range(len(x)):\n",
        "    x[i] += width\n",
        "plt.bar(x, num_list2, width = width, label ='Classifier Chain',tick_label = name_list,fc = 'b')\n",
        "plt.legend()\n",
        "plt.show()"
      ],
      "execution_count": 0,
      "outputs": [
        {
          "output_type": "stream",
          "text": [
            "The accuracy of Binary Relevance is 0.114325\n",
            "Binary Relevance with under-sampling is 0.046832\n",
            "Classifier Chain is 0.195592\n",
            "\n"
          ],
          "name": "stdout"
        },
        {
          "output_type": "display_data",
          "data": {
            "image/png": "[encoded data removed]",
            "text/plain": [
              "<Figure size 432x288 with 1 Axes>"
            ]
          },
          "metadata": {
            "tags": [],
            "needs_background": "light"
          }
        }
      ]
    },
    {
      "cell_type": "markdown",
      "metadata": {
        "id": "x1vinZu885NL",
        "colab_type": "text"
      },
      "source": [
        "## Task 6: Reflect on the Performance of the Different Models Evaluated"
      ]
    },
    {
      "cell_type": "markdown",
      "metadata": {
        "id": "MLWHAZVU85NM",
        "colab_type": "text"
      },
      "source": [
        "The bar chart above shows the performance of the 3 models. It illustrates that Classifier Chain works best for both evaluation indexes. The Hamming Loss is much lower than other twos', while the F1-Score is much higher. It means that the Classifier Chain predicts the least incorrect labels and have the highest average precision and recall among these 3 models. Thus, as far as this dataset, considering other function classes do the effort to predict the specific class correctly.  \n",
        "However, it's hard to say whether under-sampling improves the performance of Binary Relevance model. Though the F1-Score becomes higher after under-sampling, the Hamming loss increases as well. It shows that under-sampling help the model get higher recall though it predicts more incorrect labels. It might because when under-sample dataset with week features randomly, the simple classifier, for example, decision tree, will be trained worse as it lost many data for judgement.\n",
        "For binary relevance algorithm and classifer chains algorithm, the classifer training process fits 23688 instances to build the model whereas only 10083 instances are processed after undersampling. According to the results of grid search, it shows with normal sample and undersampling sample the running time has huge difference. What's more, in the undersampling binary relevance part, we add options to choose base algorithm and undersampling, sum up to 8 combinations. The combinations are not too much to make model too complex. \n"
      ]
    }
  ]
}